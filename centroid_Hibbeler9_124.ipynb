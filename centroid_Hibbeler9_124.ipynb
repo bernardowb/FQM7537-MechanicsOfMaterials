{
 "cells": [
  {
   "cell_type": "markdown",
   "metadata": {},
   "source": [
    "Calcule as coordenadas $\\overline{x}$ e $\\overline{y}$ do centroide da placa mostrada abaixo.\n",
    "\n",
    "![alt text](centroid_Hibbeler9_124.png \"Title\")"
   ]
  },
  {
   "cell_type": "code",
   "execution_count": 1,
   "metadata": {},
   "outputs": [],
   "source": [
    "%matplotlib inline\n",
    "import click\n",
    "import numpy as np\n",
    "import matplotlib.pyplot as plt\n",
    "from shapely.geometry import Polygon\n",
    "from descartes.patch import PolygonPatch"
   ]
  },
  {
   "cell_type": "code",
   "execution_count": 2,
   "metadata": {},
   "outputs": [],
   "source": [
    "# função limite superior\n",
    "def ff1(xx):\n",
    "    return np.sqrt(2.0 * xx)\n",
    "\n",
    "# função limite inferior\n",
    "def ff2(xx):\n",
    "    return -1.0 * xx"
   ]
  },
  {
   "cell_type": "code",
   "execution_count": 7,
   "metadata": {},
   "outputs": [],
   "source": [
    "# vetor x entre [0,2] para gerar os valores f(x) da função superior (200 pontos no intervalo)\n",
    "xgen_sup = np.linspace(0.0, 2.0, 200, endpoint=True)\n",
    "\n",
    "# vetor x entre [2,0] para gerar os valores f(x) da função inferior\n",
    "xgen_inf = np.flipud(xgen_sup)\n",
    "\n",
    "# lista das tuplas com coordenadas (x, f(x)) das funcões superior (coords1) e inferior (coords2)\n",
    "coords1 = [(xx, yy) for xx, yy in zip(xgen_sup, ff1(xgen_sup))]\n",
    "coords2 = [(xx, yy) for xx, yy in zip(xgen_inf, ff2(xgen_inf))]\n",
    "\n",
    "# concatena as listas acima, fechando o contorno da área\n",
    "coords = [*coords1, *coords2]"
   ]
  },
  {
   "cell_type": "code",
   "execution_count": 8,
   "metadata": {},
   "outputs": [],
   "source": [
    "# cria um objeto polygon a partir da lista de coordenadas\n",
    "polygon = Polygon(coords)"
   ]
  },
  {
   "cell_type": "code",
   "execution_count": 9,
   "metadata": {},
   "outputs": [
    {
     "name": "stdout",
     "output_type": "stream",
     "text": [
      "\u001b[1mpolygon area\u001b[0m\n",
      "4.6664\n",
      "\u001b[1mcentroid coords\u001b[0m\n",
      "(1.2572, 0.1429)\n"
     ]
    }
   ],
   "source": [
    "# obtém atributos - área, centroide e coordenadas do contorno - do objeto\n",
    "aa = polygon.area\n",
    "cc = polygon.centroid.coords.xy\n",
    "xe, ye = polygon.exterior.coords.xy\n",
    "\n",
    "# imprime área e coordenadas do centroide\n",
    "click.secho(f'polygon area', color='black', bold=True)\n",
    "click.secho(f'{aa:.4f}')\n",
    "click.secho(f'centroid coords', color='black', bold=True)\n",
    "click.secho(f'({cc[0][0]:.4f}, {cc[1][0]:.4f})')"
   ]
  },
  {
   "cell_type": "code",
   "execution_count": 10,
   "metadata": {},
   "outputs": [
    {
     "data": {
      "image/png": "[encoded data removed]",
      "text/plain": [
       "<Figure size 432x720 with 1 Axes>"
      ]
     },
     "metadata": {
      "needs_background": "light"
     },
     "output_type": "display_data"
    }
   ],
   "source": [
    "# plota polígono com a posição do centroide indicada\n",
    "fig, ax = plt.subplots(figsize=(6,10))\n",
    "patch = PolygonPatch(polygon, fc='gray', alpha=0.1, zorder=2)\n",
    "ax.add_patch(patch)\n",
    "ax.plot(xe, ye, color='black', linewidth=1.5, linestyle='-', marker='')\n",
    "ax.axhline(0, color='black', linestyle='--')\n",
    "ax.axvline(0, color='black', linestyle='--')\n",
    "ax.scatter(cc[0], cc[1], color='red', s=50, marker='x')\n",
    "ax.set_xlim(-0.1, 2.1)\n",
    "ax.set_ylim(-2.1, 2.1)\n",
    "plt.show()"
   ]
  },
  {
   "cell_type": "markdown",
   "metadata": {},
   "source": [
    "***\n",
    "Como comparação, através de integração dupla, temos\n",
    "\n",
    "$\\displaystyle A = \\int_{A} dA = \\int_{0}^{x_f} \\left(\\int_{-x}^{\\sqrt{2x}} dy\\right) dx = \\frac{\\sqrt{8}}{3} x_f^{3/2} + \\frac{1}{2}x_f^2$\n",
    "\n",
    "Para $x_f = 2~\\mathrm{m} \\rightarrow A = 4.66667~\\mathrm{m}^2$."
   ]
  },
  {
   "cell_type": "markdown",
   "metadata": {},
   "source": [
    "$\\displaystyle Q_y = \\int_{A} x\\,dA = \\int_{0}^{x_f} \\left( \\int_{-x}^{\\sqrt{2x}} x\\,dy \\right) = \\frac{2\\sqrt{2}}{5}x_f^{5/2} + \\frac{1}{3}x_f^3$\n",
    "\n",
    "Para $x_f = 2~\\mathrm{m} \\rightarrow Q_y = 5.86667~\\mathrm{m}^3$."
   ]
  },
  {
   "cell_type": "markdown",
   "metadata": {},
   "source": [
    "$\\displaystyle Q_x = \\int_{A} y\\,dA = \\int_{0}^{x_f} \\left( \\int_{-x}^{\\sqrt{2x}} y\\,dy \\right) = \\frac{1}{2}x_f^{2} - \\frac{1}{6}x_f^3$\n",
    "\n",
    "Para $x_f = 2~\\mathrm{m} \\rightarrow Q_x = 0.66667~\\mathrm{m}^3$."
   ]
  },
  {
   "cell_type": "markdown",
   "metadata": {},
   "source": [
    "Portanto,\n",
    "\n",
    "$\\displaystyle \\overline{x} = \\frac{Q_y}{A} = 1.25714~\\mathrm{m}$;\n",
    "\n",
    "$\\displaystyle \\overline{y} = \\frac{Q_x}{A} = 0.14286~\\mathrm{m}$."
   ]
  },
  {
   "cell_type": "code",
   "execution_count": null,
   "metadata": {},
   "outputs": [],
   "source": []
  }
 ],
 "metadata": {
  "kernelspec": {
   "display_name": "Python 3",
   "language": "python",
   "name": "python3"
  },
  "language_info": {
   "codemirror_mode": {
    "name": "ipython",
    "version": 3
   },
   "file_extension": ".py",
   "mimetype": "text/x-python",
   "name": "python",
   "nbconvert_exporter": "python",
   "pygments_lexer": "ipython3",
   "version": "3.7.5"
  }
 },
 "nbformat": 4,
 "nbformat_minor": 2
}
