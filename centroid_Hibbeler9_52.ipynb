{
 "cells": [
  {
   "cell_type": "markdown",
   "metadata": {},
   "source": [
    "Calcular a coordenada $\\overline{y}$ do centroide do perfil mostrado abaixo.\n",
    "\n",
    "![alt text](centroid_Hibbeler9_52.png \"Title\")"
   ]
  },
  {
   "cell_type": "code",
   "execution_count": 1,
   "metadata": {},
   "outputs": [],
   "source": [
    "%matplotlib inline\n",
    "import click\n",
    "import numpy as np\n",
    "import matplotlib.pyplot as plt\n",
    "from shapely.geometry import Polygon\n",
    "from descartes.patch import PolygonPatch"
   ]
  },
  {
   "cell_type": "code",
   "execution_count": 2,
   "metadata": {},
   "outputs": [],
   "source": [
    "# lista das tuplas com coordenadas (x, y) do contorno da placa\n",
    "coords = [(-6,0),\n",
    "          (-6,6),\n",
    "          (-3,6),\n",
    "          (-3,33),\n",
    "          (-12,33),\n",
    "          (-12,36),\n",
    "          (12,36),\n",
    "          (12,33),\n",
    "          (3,33),\n",
    "          (3,6),\n",
    "          (6,6),\n",
    "          (6,0),\n",
    "          (-6,0)]"
   ]
  },
  {
   "cell_type": "code",
   "execution_count": 3,
   "metadata": {},
   "outputs": [],
   "source": [
    "# cria um objeto polygon a partir da lista de coordenadas\n",
    "polygon = Polygon(coords)"
   ]
  },
  {
   "cell_type": "code",
   "execution_count": 4,
   "metadata": {},
   "outputs": [
    {
     "name": "stdout",
     "output_type": "stream",
     "text": [
      "\u001b[1mpolygon area\u001b[0m\n",
      "306.0000\n",
      "\u001b[1mcentroid y coord\u001b[0m\n",
      "19.1471\n"
     ]
    }
   ],
   "source": [
    "# obtém atributos - área, centroide e coordenadas do contorno - do objeto\n",
    "aa = polygon.area\n",
    "cc = polygon.centroid.coords.xy\n",
    "xe, ye = polygon.exterior.coords.xy\n",
    "\n",
    "# imprime área e coordenadas do centroide\n",
    "click.secho(f'polygon area', color='black', bold=True)\n",
    "click.secho(f'{aa:.4f}')\n",
    "click.secho(f'centroid y coord', color='black', bold=True)\n",
    "click.secho(f'{cc[1][0]:.4f}')"
   ]
  },
  {
   "cell_type": "code",
   "execution_count": 5,
   "metadata": {},
   "outputs": [
    {
     "data": {
      "image/png": "[encoded data removed]",
      "text/plain": [
       "<Figure size 432x720 with 1 Axes>"
      ]
     },
     "metadata": {
      "needs_background": "light"
     },
     "output_type": "display_data"
    }
   ],
   "source": [
    "# plota polígono com a posição do centroide indicada\n",
    "fig, ax = plt.subplots(figsize=(6,10))\n",
    "patch = PolygonPatch(polygon, fc='gray', alpha=0.1, zorder=2)\n",
    "ax.add_patch(patch)\n",
    "ax.plot(xe, ye, color='black', linewidth=1.5, linestyle='-', marker='')\n",
    "ax.axhline(0, color='black', linestyle='--')\n",
    "ax.axvline(0, color='black', linestyle='--')\n",
    "ax.scatter(cc[0], cc[1], color='red', s=50, marker='x')\n",
    "ax.set_xlim(-14, 14)\n",
    "ax.set_ylim(-1, 37)\n",
    "plt.show()"
   ]
  },
  {
   "cell_type": "code",
   "execution_count": null,
   "metadata": {},
   "outputs": [],
   "source": []
  }
 ],
 "metadata": {
  "kernelspec": {
   "display_name": "Python 3",
   "language": "python",
   "name": "python3"
  },
  "language_info": {
   "codemirror_mode": {
    "name": "ipython",
    "version": 3
   },
   "file_extension": ".py",
   "mimetype": "text/x-python",
   "name": "python",
   "nbconvert_exporter": "python",
   "pygments_lexer": "ipython3",
   "version": "3.7.5"
  }
 },
 "nbformat": 4,
 "nbformat_minor": 2
}
